{
 "cells": [
  {
   "cell_type": "markdown",
   "metadata": {},
   "source": [
    "## While loops"
   ]
  },
  {
   "cell_type": "markdown",
   "metadata": {},
   "source": [
    "\"\"\"Loops are used to run a code or a block of codes multiple times till a particular conditon is satisfied\n",
    " In python , we have two basic kinds of loop:\n",
    " 1)While loop: It is a kind of loop where the code runs continuously till the condition is satisfied,and\n",
    " when the condition stands out to be false, the line of code immediately after the loop is executed.\n",
    "2) For loop: In case of for loop , it is executed mainly for sequential traversals, like in  strings ,list ,etc\"\"\""
   ]
  },
  {
   "cell_type": "code",
   "execution_count": 1,
   "metadata": {},
   "outputs": [
    {
     "name": "stdout",
     "output_type": "stream",
     "text": [
      "0\n",
      "1\n",
      "2\n",
      "3\n",
      "4\n",
      "loop succesfully executed\n"
     ]
    }
   ],
   "source": [
    "j=0\n",
    "while(j<5):\n",
    "    print(j)\n",
    "    j+=1\n",
    "print('loop succesfully executed')"
   ]
  },
  {
   "cell_type": "markdown",
   "metadata": {},
   "source": [
    "\"\"\"Another type of while loop is While-else loop here we can add a else statement along with the while\n",
    " loop which works when the while condition isn't satisfied.\n",
    " A simple multiplier program:\"\"\""
   ]
  },
  {
   "cell_type": "code",
   "execution_count": 2,
   "metadata": {},
   "outputs": [
    {
     "name": "stdout",
     "output_type": "stream",
     "text": [
      "Enter the first no that you want to multiply(enter 1 for exiting the loop): 10\n",
      "the first product is:  10\n",
      "Enter the first no that you want to multiply(enter 1 for exiting the loop): 2\n",
      "the first product is:  20\n",
      "Enter the first no that you want to multiply(enter 1 for exiting the loop): 10\n",
      "the first product is:  200\n",
      "Enter the first no that you want to multiply(enter 1 for exiting the loop): 2\n",
      "the first product is:  400\n",
      "Enter the first no that you want to multiply(enter 1 for exiting the loop): 5\n",
      "the first product is:  2000\n",
      "Enter the first no that you want to multiply(enter 1 for exiting the loop): 1\n",
      "the first product is:  2000\n",
      "The Final result of the multiplication is:  2000\n"
     ]
    }
   ],
   "source": [
    "mul=1\n",
    "num=0\n",
    "while(num!=1):# the loop will run till the user inputs 1 to exit the loop\n",
    "    num=int(input(\"Enter the first no that you want to multiply(enter 1 for exiting the loop): \"))\n",
    "    mul=mul*num\n",
    "    print(\"the first product is: \",mul)\n",
    "else:\n",
    "    print(\"The Final result of the multiplication is: \",mul)"
   ]
  },
  {
   "cell_type": "code",
   "execution_count": null,
   "metadata": {},
   "outputs": [],
   "source": []
  }
 ],
 "metadata": {
  "kernelspec": {
   "display_name": "Python 3",
   "language": "python",
   "name": "python3"
  },
  "language_info": {
   "codemirror_mode": {
    "name": "ipython",
    "version": 3
   },
   "file_extension": ".py",
   "mimetype": "text/x-python",
   "name": "python",
   "nbconvert_exporter": "python",
   "pygments_lexer": "ipython3",
   "version": "3.7.1"
  }
 },
 "nbformat": 4,
 "nbformat_minor": 2
}
