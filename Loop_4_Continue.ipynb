{
 "cells": [
  {
   "cell_type": "markdown",
   "metadata": {},
   "source": [
    "### Continue Statement"
   ]
  },
  {
   "cell_type": "markdown",
   "metadata": {},
   "source": [
    "The continue statement is used to skip the rest of the code inside a\n",
    "loop for the current iteration only. Loop does not terminate but continues on with the next\n",
    "iteration."
   ]
  },
  {
   "cell_type": "markdown",
   "metadata": {},
   "source": [
    "Implementation of continue statement in for loops."
   ]
  },
  {
   "cell_type": "code",
   "execution_count": 2,
   "metadata": {},
   "outputs": [
    {
     "name": "stdout",
     "output_type": "stream",
     "text": [
      "The value of i is=  1\n",
      "The value of i is=  2\n",
      "The value of i is=  3\n",
      "The value of i is=  4\n",
      "The value of i is=  7\n",
      "The value of i is=  8\n",
      "The value of i is=  9\n",
      "The value of 5 & 6 is skipped\n"
     ]
    }
   ],
   "source": [
    "x=[1,2,3,4,5,6,7,8,9]\n",
    "for i in x:\n",
    "    if(i==5 or i==6):\n",
    "        continue\n",
    "    print(\"The value of i is= \",i)\n",
    "print(\"The value of 5 & 6 is skipped\")"
   ]
  },
  {
   "cell_type": "markdown",
   "metadata": {},
   "source": [
    "Implementation of continue statement in While loops."
   ]
  },
  {
   "cell_type": "code",
   "execution_count": 3,
   "metadata": {},
   "outputs": [
    {
     "name": "stdout",
     "output_type": "stream",
     "text": [
      "The value of i is = 1\n",
      "The value of i is = 2\n",
      "The value of i is = 3\n",
      "The value of i is = 4\n",
      "The value of i is = 5\n",
      "The value of i is = 6\n",
      "The value of i is = 7\n",
      "The value of i is = 8\n",
      "The value of i is = 9\n",
      "The value of i is = 10\n",
      "The value of i is = 11\n",
      "The value of i is = 12\n",
      "The value of i is = 13\n",
      "The value of i is = 14\n",
      "The value of i is = 18\n",
      "The value of i is = 19\n",
      "The value of i is = 20\n",
      "The value of  i when i=15,16,17, is skipped as we have used the continue statement. \n"
     ]
    }
   ],
   "source": [
    "i=0\n",
    "while i <20:\n",
    "    i=i+1\n",
    "    if(i==15 or i==16 or i==17):\n",
    "        continue\n",
    "    print(\"The value of i is =\",i)\n",
    "print(\"The value of  i when i=15,16,17, is skipped as we have used the continue statement. \")"
   ]
  },
  {
   "cell_type": "code",
   "execution_count": null,
   "metadata": {},
   "outputs": [],
   "source": []
  }
 ],
 "metadata": {
  "kernelspec": {
   "display_name": "Python 3",
   "language": "python",
   "name": "python3"
  },
  "language_info": {
   "codemirror_mode": {
    "name": "ipython",
    "version": 3
   },
   "file_extension": ".py",
   "mimetype": "text/x-python",
   "name": "python",
   "nbconvert_exporter": "python",
   "pygments_lexer": "ipython3",
   "version": "3.7.1"
  }
 },
 "nbformat": 4,
 "nbformat_minor": 2
}
