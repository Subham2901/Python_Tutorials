{
 "cells": [
  {
   "cell_type": "markdown",
   "metadata": {},
   "source": [
    "### Functions( Default Arguments,args,kwargs)"
   ]
  },
  {
   "cell_type": "markdown",
   "metadata": {},
   "source": [
    "###### Default Arguments: We use default arguments when we  want that all of our arguments or parammeters has some values assigned to it."
   ]
  },
  {
   "cell_type": "code",
   "execution_count": 34,
   "metadata": {},
   "outputs": [],
   "source": [
    "def Student(name=\" No name given\",age=\"No age was mentioned\"):\n",
    "    print(\"name:\",name)\n",
    "    print(\"age=\",age)\n",
    "    \n",
    "    "
   ]
  },
  {
   "cell_type": "code",
   "execution_count": 35,
   "metadata": {},
   "outputs": [
    {
     "name": "stdout",
     "output_type": "stream",
     "text": [
      "name:  No name given\n",
      "age= No age was mentioned\n"
     ]
    }
   ],
   "source": [
    "Student()"
   ]
  },
  {
   "cell_type": "markdown",
   "metadata": {},
   "source": [
    "#### Variable Length arguments \n",
    "It is represented by adding an asterisk in front of the arguments.By,this we can assign multiple values into an argument(*args). The values of the argument are loaded in a tuple.\n"
   ]
  },
  {
   "cell_type": "code",
   "execution_count": 36,
   "metadata": {},
   "outputs": [],
   "source": [
    "def Student1(name,age,*marks):\n",
    "    print(\"name=\",name)\n",
    "    print(\"age=\",age)\n",
    "    print(\"marks = \",marks)"
   ]
  },
  {
   "cell_type": "code",
   "execution_count": 37,
   "metadata": {},
   "outputs": [
    {
     "name": "stdout",
     "output_type": "stream",
     "text": [
      "name= Subham\n",
      "age= 21\n",
      "marks =  (100, 100, 100, 100)\n"
     ]
    }
   ],
   "source": [
    "Student1(\"Subham\",21,100,100,100,100)"
   ]
  },
  {
   "cell_type": "markdown",
   "metadata": {},
   "source": [
    "### Variable Length arguments(**kwargs):\n",
    "Here,the values are stored in form a dictionary under one argument."
   ]
  },
  {
   "cell_type": "code",
   "execution_count": 38,
   "metadata": {},
   "outputs": [],
   "source": [
    "def Student2(name,age,**marks):\n",
    "    print(\"name : \",name)\n",
    "    print(\"age  : \",age)\n",
    "    print(\"marks :\",marks)\n",
    "    "
   ]
  },
  {
   "cell_type": "code",
   "execution_count": 39,
   "metadata": {},
   "outputs": [
    {
     "name": "stdout",
     "output_type": "stream",
     "text": [
      "name :  Subham\n",
      "age  :  21\n",
      "marks : {'English': 100, 'Maths': 100, 'Science': 150}\n"
     ]
    }
   ],
   "source": [
    "Student2(\"Subham\",21,English=100,Maths=100,Science=150)"
   ]
  },
  {
   "cell_type": "code",
   "execution_count": 40,
   "metadata": {},
   "outputs": [],
   "source": [
    "def Student3(name,age,**marks):\n",
    "    print(\"name : \",name)\n",
    "    print(\"age  : \",age)\n",
    "    print(\"marks:\",marks)\n",
    "    for key,value in marks.items():\n",
    "        print(key,\" \",value)\n",
    "    "
   ]
  },
  {
   "cell_type": "code",
   "execution_count": 41,
   "metadata": {},
   "outputs": [
    {
     "name": "stdout",
     "output_type": "stream",
     "text": [
      "name :  Subham\n",
      "age  :  21\n",
      "marks: {'English': 100, 'Physics': 100}\n",
      "English   100\n",
      "Physics   100\n"
     ]
    }
   ],
   "source": [
    "Student3(\"Subham\",21,English=100,Physics=100)"
   ]
  },
  {
   "cell_type": "code",
   "execution_count": null,
   "metadata": {},
   "outputs": [],
   "source": []
  },
  {
   "cell_type": "code",
   "execution_count": null,
   "metadata": {},
   "outputs": [],
   "source": []
  },
  {
   "cell_type": "code",
   "execution_count": null,
   "metadata": {},
   "outputs": [],
   "source": []
  }
 ],
 "metadata": {
  "kernelspec": {
   "display_name": "Python 3",
   "language": "python",
   "name": "python3"
  },
  "language_info": {
   "codemirror_mode": {
    "name": "ipython",
    "version": 3
   },
   "file_extension": ".py",
   "mimetype": "text/x-python",
   "name": "python",
   "nbconvert_exporter": "python",
   "pygments_lexer": "ipython3",
   "version": "3.7.1"
  }
 },
 "nbformat": 4,
 "nbformat_minor": 2
}
